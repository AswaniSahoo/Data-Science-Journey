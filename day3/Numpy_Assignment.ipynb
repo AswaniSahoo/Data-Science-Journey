{
 "cells": [
  {
   "cell_type": "markdown",
   "id": "f842ea46",
   "metadata": {},
   "source": [
    "# Module: NumPy Assignments\n",
    "## Lesson: NumPy\n",
    "### Assignment 1: Array Creation and Manipulation\n",
    "\n",
    "1. Create a NumPy array of shape (5, 5) filled with random integers between 1 and 20. Replace all the elements in the third column with 1.\n",
    "2. Create a NumPy array of shape (4, 4) with values from 1 to 16. Replace the diagonal elements with 0."
   ]
  },
  {
   "cell_type": "code",
   "execution_count": 2,
   "id": "2d59da4c",
   "metadata": {},
   "outputs": [
    {
     "name": "stdout",
     "output_type": "stream",
     "text": [
      "[[15  1 19  7  8]\n",
      " [ 6 16  4  2  6]\n",
      " [ 8  5  2 18 12]\n",
      " [ 1 17 12 17  5]\n",
      " [ 8 20 17 17 12]]\n",
      "Array: \n",
      " [[15  1  1  7  8]\n",
      " [ 6 16  1  2  6]\n",
      " [ 8  5  1 18 12]\n",
      " [ 1 17  1 17  5]\n",
      " [ 8 20  1 17 12]]\n"
     ]
    }
   ],
   "source": [
    "import numpy as np\n",
    "\n",
    "arr1 = np.random.randint(1,21,size=(5,5))\n",
    "print(arr1)\n",
    "\n",
    "arr1[:,2:3] = 1\n",
    "print(\"Array: \\n\",arr1)\n"
   ]
  },
  {
   "cell_type": "code",
   "execution_count": 3,
   "id": "e9779e7b",
   "metadata": {},
   "outputs": [
    {
     "name": "stdout",
     "output_type": "stream",
     "text": [
      "[[16  8  1  8]\n",
      " [ 7 11  7  6]\n",
      " [15  8  6  3]\n",
      " [15 10 15 11]]\n",
      "[[ 0  8  1  8]\n",
      " [ 7  0  7  6]\n",
      " [15  8  0  3]\n",
      " [15 10 15  0]]\n"
     ]
    }
   ],
   "source": [
    "## 2. Create a NumPy array of shape (4, 4) with values \n",
    "# from 1 to 16. Replace the diagonal elements with 0.\n",
    "arr2 = np.random.randint(1,17,size=(4,4))\n",
    "print(arr2)\n",
    "\n",
    "np.fill_diagonal(arr2,0)\n",
    "print(arr2)"
   ]
  },
  {
   "cell_type": "markdown",
   "id": "fb380c43",
   "metadata": {},
   "source": [
    "### Assignment 2: Array Indexing and Slicing\n",
    "1. Create a NumPy array of shape (6, 6) with values from 1 to 36. Extract the sub-array consisting of the 3rd to 5th rows and 2nd to 4th columns."
   ]
  },
  {
   "cell_type": "code",
   "execution_count": 4,
   "id": "4a2926b8",
   "metadata": {},
   "outputs": [
    {
     "name": "stdout",
     "output_type": "stream",
     "text": [
      "[[13 18 19 20 17 26]\n",
      " [11 31 11 30 30  7]\n",
      " [13  3 13  7  6  4]\n",
      " [22 19 14 30 27 32]\n",
      " [24 16 14  7 11 19]\n",
      " [25  3  4  1 11 25]]\n",
      "[[14 30 27]\n",
      " [14  7 11]\n",
      " [ 4  1 11]]\n"
     ]
    }
   ],
   "source": [
    "arr3 = np.random.randint(1,37,size=(6,6))\n",
    "print(arr3)\n",
    "\n",
    "print(arr3[3:6,2:5])\n",
    "\n"
   ]
  },
  {
   "cell_type": "markdown",
   "id": "5f86f2af",
   "metadata": {},
   "source": [
    "2. Create a NumPy array of shape (5, 5) with random integers. Extract the elements on the border."
   ]
  },
  {
   "cell_type": "code",
   "execution_count": 5,
   "id": "f748ba9a",
   "metadata": {},
   "outputs": [
    {
     "name": "stdout",
     "output_type": "stream",
     "text": [
      "[[40 23 46 12 16]\n",
      " [21 64 25 30 75]\n",
      " [ 3 29  3 94 79]\n",
      " [ 8 46 67 93 66]\n",
      " [79 53 45 44 38]]\n",
      "[[40 23 46 12 16]\n",
      " [21  0  0  0 75]\n",
      " [ 3  0  0  0 79]\n",
      " [ 8  0  0  0 66]\n",
      " [79 53 45 44 38]]\n",
      "[array([40, 23, 46, 12, 16, 21, 75,  3, 79,  8, 66, 79, 53, 45, 44, 38])]\n"
     ]
    }
   ],
   "source": [
    "arr4 = np.random.randint(1,100,size=(5,5))\n",
    "print(arr4)\n",
    "\n",
    "modify_arr = np.copy(arr4)\n",
    "modify_arr[1:-1,1:-1] = 0\n",
    "print(modify_arr)\n",
    "\n",
    "border_elements = []\n",
    "border_elements.append(modify_arr[(modify_arr>0)])\n",
    "print(border_elements)"
   ]
  },
  {
   "cell_type": "code",
   "execution_count": 6,
   "id": "41a223bc",
   "metadata": {},
   "outputs": [
    {
     "name": "stdout",
     "output_type": "stream",
     "text": [
      "Top row: [40 23 46 12 16]\n",
      "Bottom row [79 53 45 44 38]\n",
      "Left Column: [21  3  8]\n",
      "Right Column: [75 79 66]\n"
     ]
    }
   ],
   "source": [
    "print(\"Top row:\",arr4[0,:])\n",
    "print(\"Bottom row\",arr4[-1,:]) # 4 can be replaced in place of -1\n",
    "print(\"Left Column:\",arr4[1:-1,0])\n",
    "print(\"Right Column:\",arr4[1:-1,-1])"
   ]
  },
  {
   "cell_type": "markdown",
   "id": "ac5b449b",
   "metadata": {},
   "source": [
    "### Assignment 3: Array Operations\n",
    "\n",
    "1. Create two NumPy arrays of shape (3, 4) filled with random integers. Perform element-wise addition, subtraction, multiplication, and division."
   ]
  },
  {
   "cell_type": "code",
   "execution_count": 7,
   "id": "1b23e4f8",
   "metadata": {},
   "outputs": [
    {
     "name": "stdout",
     "output_type": "stream",
     "text": [
      "[[3 6 3 1]\n",
      " [3 8 9 6]\n",
      " [2 4 7 4]] \n",
      " [[4 6 7 7]\n",
      " [1 9 7 8]\n",
      " [8 6 6 5]]\n",
      "Addition: \n",
      " [[ 7 12 10  8]\n",
      " [ 4 17 16 14]\n",
      " [10 10 13  9]]\n",
      "Substraction: \n",
      " [[ 1  0  4  6]\n",
      " [-2  1 -2  2]\n",
      " [ 6  2 -1  1]]\n",
      "Multiplication: \n",
      " [[12 36 21  7]\n",
      " [ 3 72 63 48]\n",
      " [16 24 42 20]]\n",
      "Divisio: \n",
      " [[1.33333333 1.         2.33333333 7.        ]\n",
      " [0.33333333 1.125      0.77777778 1.33333333]\n",
      " [4.         1.5        0.85714286 1.25      ]]\n"
     ]
    }
   ],
   "source": [
    "arr3_1 =np.random.randint(1,10,size = (3,4))\n",
    "arr3_2 =np.random.randint(1,10,size = (3,4))\n",
    "print(arr3_1,\"\\n\",arr3_2)\n",
    "\n",
    "print(\"Addition: \\n\",arr3_2+arr3_1)\n",
    "print(\"Substraction: \\n\",arr3_2-arr3_1)\n",
    "print(\"Multiplication: \\n\",arr3_2*arr3_1)\n",
    "print(\"Divisio: \\n\",arr3_2/arr3_1)"
   ]
  },
  {
   "cell_type": "markdown",
   "id": "7309647d",
   "metadata": {},
   "source": [
    "2. Create a NumPy array of shape (4, 4) with values from 1 to 16. Compute the row-wise and column-wise sum.\n"
   ]
  },
  {
   "cell_type": "code",
   "execution_count": 9,
   "id": "c3a59178",
   "metadata": {},
   "outputs": [
    {
     "name": "stdout",
     "output_type": "stream",
     "text": [
      "[[12 13  1  1]\n",
      " [13  7 15  9]\n",
      " [ 3  6  8  2]\n",
      " [ 2  9  7  9]]\n",
      "\n",
      "Row-wise sum: [27 44 19 27]\n",
      "\n",
      "Column-wise sum: [30 35 31 21]\n"
     ]
    }
   ],
   "source": [
    "arr3_2_1 =np.random.randint(1,17,size = (4,4))\n",
    "print(arr3_2_1)\n",
    "row_sum = np.sum(arr3_2_1, axis=1)\n",
    "print(\"\\nRow-wise sum:\", row_sum)\n",
    "col_sum = np.sum(arr3_2_1, axis=0)\n",
    "print(\"\\nColumn-wise sum:\", col_sum)"
   ]
  },
  {
   "cell_type": "code",
   "execution_count": null,
   "id": "42c301f3",
   "metadata": {},
   "outputs": [],
   "source": []
  }
 ],
 "metadata": {
  "kernelspec": {
   "display_name": "Python (myenv)",
   "language": "python",
   "name": "myenv"
  },
  "language_info": {
   "codemirror_mode": {
    "name": "ipython",
    "version": 3
   },
   "file_extension": ".py",
   "mimetype": "text/x-python",
   "name": "python",
   "nbconvert_exporter": "python",
   "pygments_lexer": "ipython3",
   "version": "3.12.7"
  }
 },
 "nbformat": 4,
 "nbformat_minor": 5
}
